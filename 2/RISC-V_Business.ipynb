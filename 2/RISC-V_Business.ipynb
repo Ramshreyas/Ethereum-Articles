{
 "cells": [
  {
   "cell_type": "markdown",
   "metadata": {},
   "source": [
    "# RISC-V Business\n",
    "\n",
    "![\"RISC-V Business\"](https://szmer.info/pictrs/image/6313c4e4-5b15-41ee-afa8-a7765cda4893.png)\n",
    "\n",
    "Angelina Jolie in Hackers, 1995\n",
    "\n",
    "It's almost 2025, and the great RISC revolution that has been looming for decades is finally threatening to come true. The Ethereum Foundation is taking this seriously enough to [fund a formal verification effort for RISC-V ZKVMs](https://verified-zkevm.org/), chip industry legends like Michael Keller have thrown their hats into the ring with companies like [tenstorrent](https://tenstorrent.com/en/vision/tenstorrent-risc-v-and-chiplet-technology-selected-to-build-the-future-of-ai-in-japan), RISC-V International (the governing body for the RISC-V standard) has [ratified the RISC-V specifications](https://riscv.org/announcements/2024/04/risc-v-international-achieves-milestone-with-ratification-of-40-specifications-in-two-years/), laying the ground for an open standard that industry can now build upon, and Justin Drake in his ambitious [Beam Chain proposal](https://youtu.be/lRqnFrqpq4k) outlined how the onset of RISC-V can massively accelerate Ethereum's ponderous roadmap dramatically.\n",
    "\n",
    "This article aims to introduce RISC-V, motivate its importance to the Ethereum vision, and, with a few toy code examples, connect the dots across the entire tech stack from high level code down to the metal.\n",
    "\n",
    "---"
   ]
  },
  {
   "cell_type": "markdown",
   "metadata": {},
   "source": []
  }
 ],
 "metadata": {
  "language_info": {
   "name": "python"
  }
 },
 "nbformat": 4,
 "nbformat_minor": 2
}
